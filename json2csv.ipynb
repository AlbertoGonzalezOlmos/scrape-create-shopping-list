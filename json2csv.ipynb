{
 "cells": [
  {
   "cell_type": "code",
   "execution_count": null,
   "metadata": {},
   "outputs": [],
   "source": [
    "# importing the module\n",
    "import json\n",
    "import csv\n",
    " \n",
    "# Opening JSON file\n",
    "with open('MDR_dictionary.json') as json_file:\n",
    "    data = json.load(json_file)\n",
    "\n",
    "# Python program to convert\n",
    "# JSON file to CSV\n",
    "\n",
    "# open a file for writing\n",
    "data_file = open('MDR_3Columns.csv', 'w', encoding='utf-8-sig', newline='')\n",
    "\n",
    "# create the csv writer object\n",
    "csv_writer = csv.writer(data_file)\n",
    "\n",
    "# Counter variable used for writing \n",
    "# headers to the CSV file\n",
    "count = 0\n",
    "\n",
    "for idx, emp in enumerate(range(0,len(data))):\n",
    "\temp = data[str(idx)]\n",
    "\t# if count == 0:\n",
    "\t# \t# Writing headers of CSV file\n",
    "\t# \theader = emp.keys()\n",
    "\t# \tcsv_writer.writerow(header)\n",
    "\t# \tcount += 1\n",
    "\tdict_elements = []\n",
    "\tfor idx_elem, element in enumerate(emp):\n",
    "\t\ttext = emp[element]\n",
    "\t\tif idx_elem == 2:\n",
    "\t\t\ttext = str(text)\n",
    "\t\tdict_elements.append(text)\n",
    "\n",
    "\t# Writing data of CSV file\n",
    "\tcsv_writer.writerow(dict_elements)\n",
    "\n",
    "data_file.close()\n"
   ]
  },
  {
   "cell_type": "code",
   "execution_count": null,
   "metadata": {},
   "outputs": [],
   "source": [
    "# importing the csv\n",
    "\n",
    "with open('MDR_3Columns.csv', newline='') as f:\n",
    "    reader = csv.reader(f)\n",
    "    read_list = []\n",
    "    for row in reader:\n",
    "        read_list.append(row)"
   ]
  }
 ],
 "metadata": {
  "language_info": {
   "name": "python"
  }
 },
 "nbformat": 4,
 "nbformat_minor": 2
}
